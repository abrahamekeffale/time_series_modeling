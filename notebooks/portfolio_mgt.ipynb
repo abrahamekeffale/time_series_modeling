{
 "cells": [
  {
   "cell_type": "code",
   "execution_count": 30,
   "metadata": {},
   "outputs": [],
   "source": [
    "import pandas as pd\n",
    "import numpy as np\n",
    "import matplotlib.pyplot as plt\n",
    "from scipy.optimize import minimize"
   ]
  },
  {
   "cell_type": "code",
   "execution_count": 31,
   "metadata": {},
   "outputs": [],
   "source": [
    "import sys\n",
    "sys.path.append(r'C:\\Users\\HP\\week 11 final\\time_series_modeling\\scripts')  \n",
    "\n",
    "import data_loading"
   ]
  },
  {
   "cell_type": "code",
   "execution_count": 32,
   "metadata": {},
   "outputs": [],
   "source": [
    "data=preprocessed_data"
   ]
  },
  {
   "cell_type": "code",
   "execution_count": 33,
   "metadata": {},
   "outputs": [],
   "source": [
    "# Calculate expected returns and covariance matrix\n",
    "returns = data.pct_change()\n",
    "mu = returns.mean().values\n",
    "cov_matrix = returns.cov().values"
   ]
  },
  {
   "cell_type": "code",
   "execution_count": 34,
   "metadata": {},
   "outputs": [],
   "source": [
    "def portfolio_return(weights):\n",
    "    return np.dot(weights, mu)\n",
    "\n",
    "def portfolio_volatility(weights):\n",
    "    return np.sqrt(np.dot(weights.T, np.dot(cov_matrix, weights)))\n",
    "\n",
    "def portfolio_sharpe_ratio(weights):\n",
    "    return portfolio_return(weights) / portfolio_volatility(weights)\n",
    "\n",
    "# Define the objective function (maximize Sharpe ratio)\n",
    "def negative_sharpe_ratio(weights):\n",
    "    return -portfolio_sharpe_ratio(weights)\n",
    "\n",
    "# Define the constraints (weights must sum to 1 and be non-negative)\n",
    "def check_sum(weights):\n",
    "    return np.sum(weights) - 1\n",
    "\n",
    "constraints = ({'type': 'eq', 'fun': check_sum})\n",
    "\n",
    "# Initial guess for weights\n",
    "initial_guess = np.array([1/len(mu)] * len(mu))"
   ]
  },
  {
   "cell_type": "code",
   "execution_count": 35,
   "metadata": {},
   "outputs": [],
   "source": [
    "# Use SciPy's minimize function to find the optimal weights\n",
    "result = minimize(negative_sharpe_ratio, initial_guess, method='SLSQP', bounds=((0, 1),) * len(mu), constraints=constraints)"
   ]
  },
  {
   "cell_type": "code",
   "execution_count": 36,
   "metadata": {},
   "outputs": [
    {
     "name": "stdout",
     "output_type": "stream",
     "text": [
      "Optimal weights: [1.91257694e-16 8.95985851e-17 0.00000000e+00 8.70185981e-01\n",
      " 8.12624295e-18 1.29814019e-01]\n",
      "Expected Return: 0.010448696295495314\n",
      "Portfolio Volatility: 0.061775142313897746\n",
      "Sharpe Ratio: 0.16914078873994984\n"
     ]
    }
   ],
   "source": [
    "optimal_weights = result.x\n",
    "portfolio_return = portfolio_return(optimal_weights)\n",
    "portfolio_volatility = portfolio_volatility(optimal_weights)\n",
    "sharpe_ratio = portfolio_return / portfolio_volatility\n",
    "\n",
    "print(\"Optimal weights:\", optimal_weights)\n",
    "print(\"Expected Return:\", portfolio_return)\n",
    "print(\"Portfolio Volatility:\", portfolio_volatility)\n",
    "print(\"Sharpe Ratio:\", sharpe_ratio)"
   ]
  }
 ],
 "metadata": {
  "kernelspec": {
   "display_name": ".venv",
   "language": "python",
   "name": "python3"
  },
  "language_info": {
   "codemirror_mode": {
    "name": "ipython",
    "version": 3
   },
   "file_extension": ".py",
   "mimetype": "text/x-python",
   "name": "python",
   "nbconvert_exporter": "python",
   "pygments_lexer": "ipython3",
   "version": "3.12.3"
  }
 },
 "nbformat": 4,
 "nbformat_minor": 2
}
